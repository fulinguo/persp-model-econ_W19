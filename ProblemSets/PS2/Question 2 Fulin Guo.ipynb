{
 "cells": [
  {
   "cell_type": "markdown",
   "metadata": {},
   "source": [
    "\n",
    "                                           Fulin Guo"
   ]
  },
  {
   "cell_type": "markdown",
   "metadata": {},
   "source": [
    "# Question 2"
   ]
  },
  {
   "cell_type": "markdown",
   "metadata": {},
   "source": [
    "## Exercise 2.1"
   ]
  },
  {
   "cell_type": "code",
   "execution_count": 1,
   "metadata": {},
   "outputs": [
    {
     "name": "stdout",
     "output_type": "stream",
     "text": [
      "The numerical approximation of the intergral using midpoint: 4373.324813312664\n",
      "The numerical approximation of the intergral using trapezoid: 4373.333333360767\n",
      "The numerical approximation of the intergral using Simpsons: 4373.333333333468\n",
      "The difference between the midpoint method and the true value: -0.0051866873354811105\n",
      "The difference between the trapezoid method and the true value: 0.0033333607671011123\n",
      "The difference between the Simpsons method and the true value: 0.003333333467708144\n"
     ]
    }
   ],
   "source": [
    "def g(x):\n",
    "    g=0.1*(x**4)-1.5*x**3+0.53*x**2+2*x+1\n",
    "    return g\n",
    "def ing(g,a,b,n,method='midpoint'):\n",
    "    inter=0\n",
    "    if method=='midpoint':\n",
    "        for i in range(n+1):\n",
    "            inter+=((b-a)/n)*g(a+((2*i+1)*(b-a))/(2*n))\n",
    "    elif method=='trapezoid':\n",
    "        for i in range(1,n):\n",
    "            inter+=((b-a)/(2*n))*(2*g(a+i*(b-a)/n))\n",
    "        inter+=((b-a)/(2*n))*(g(a)+g(b))\n",
    "    elif method=='Simpsons':\n",
    "        for i in range(1,n):\n",
    "            if i%2==1:\n",
    "                inter+=((b-a)/(3*n))*(4*g((a+((i*(b-a)))/n)))\n",
    "            else:\n",
    "                inter+=((b-a)/(3*n))*(2*g((a+((i*(b-a))/n))))\n",
    "        inter+=((b-a)/(3*n))*(g(a)+g(b))\n",
    "    return inter\n",
    "print('The numerical approximation of the intergral using midpoint:', ing(g,-10,10,1000000,'midpoint'))\n",
    "print('The numerical approximation of the intergral using trapezoid:',ing(g,-10,10,1000000,'trapezoid'))\n",
    "print('The numerical approximation of the intergral using Simpsons:',ing(g,-10,10,1000000,'Simpsons'))\n",
    "print('The difference between the midpoint method and the true value:',ing(g,-10,10,1000000,'midpoint')-4373.33)\n",
    "print('The difference between the trapezoid method and the true value:',ing(g,-10,10,1000000,'trapezoid')-4373.33)\n",
    "print('The difference between the Simpsons method and the true value:',ing(g,-10,10,1000000,'Simpsons')-4373.33)"
   ]
  },
  {
   "cell_type": "markdown",
   "metadata": {},
   "source": [
    "## Exercise 2.2"
   ]
  },
  {
   "cell_type": "code",
   "execution_count": 2,
   "metadata": {},
   "outputs": [
    {
     "data": {
      "text/plain": [
       "[array([0.00346697, 0.01439745, 0.04894278, 0.11725292, 0.19802845,\n",
       "        0.23582284, 0.19802845, 0.11725292, 0.04894278, 0.01439745,\n",
       "        0.00346697]),\n",
       " array([-3. , -2.4, -1.8, -1.2, -0.6,  0. ,  0.6,  1.2,  1.8,  2.4,  3. ])]"
      ]
     },
     "execution_count": 2,
     "metadata": {},
     "output_type": "execute_result"
    }
   ],
   "source": [
    "import scipy.stats\n",
    "import numpy as np\n",
    "def f(mu,siga,n,k):\n",
    "    w=np.array([0.0]*n)\n",
    "    z=np.linspace(mu-k*siga,mu+k*siga,n)\n",
    "    w[0]=scipy.stats.norm.cdf((z[0]+z[1])/2,mu,siga) # The i=1 case\n",
    "    w[-1]=1-scipy.stats.norm.cdf((z[-2]+z[-1])/2,mu,siga) # The i=N case\n",
    "    for i in range(1,n-1): # The 1<i<N case\n",
    "        w[i]=scipy.stats.norm.cdf((z[i+1]+z[i])/2,mu,siga)-scipy.stats.norm.cdf((z[i]+z[i-1])/2,mu,siga)\n",
    "    return [w,z]\n",
    "f(0,1,11,3) # Set the mu=0, sita=1, N=11, and k=3"
   ]
  },
  {
   "cell_type": "markdown",
   "metadata": {},
   "source": [
    "The two arrays above represent Wn and Zn respectively."
   ]
  },
  {
   "cell_type": "markdown",
   "metadata": {},
   "source": [
    "## Exercise 2.3"
   ]
  },
  {
   "cell_type": "code",
   "execution_count": 3,
   "metadata": {},
   "outputs": [
    {
     "data": {
      "text/plain": [
       "[array([0.00346697, 0.01439745, 0.04894278, 0.11725292, 0.19802845,\n",
       "        0.23582284, 0.19802845, 0.11725292, 0.04894278, 0.01439745,\n",
       "        0.00346697]),\n",
       " array([ 0.04978707,  0.09071795,  0.16529889,  0.30119421,  0.54881164,\n",
       "         1.        ,  1.8221188 ,  3.32011692,  6.04964746, 11.02317638,\n",
       "        20.08553692])]"
      ]
     },
     "execution_count": 3,
     "metadata": {},
     "output_type": "execute_result"
    }
   ],
   "source": [
    "import math\n",
    "def lf(mu,siga,n,k):\n",
    "    w=np.array([0.0]*n)\n",
    "    z=np.linspace(mu-siga*k,mu+siga*k,n)\n",
    "    w[0]=scipy.stats.norm.cdf((z[0]+z[1])/2,mu,siga)\n",
    "    w[n-1]=1-scipy.stats.norm.cdf((z[n-2]+z[n-1])/2,mu,siga)\n",
    "    for i in range(1,n-1):\n",
    "        w[i]=scipy.stats.norm.cdf((z[i+1]+z[i])/2,mu,siga)-scipy.stats.norm.cdf((z[i]+z[i-1])/2,mu,siga)\n",
    "    z=np.array([math.exp(i) for i in z])\n",
    "    return [w,z]\n",
    "lf(0,1,11,3)"
   ]
  },
  {
   "cell_type": "markdown",
   "metadata": {},
   "source": [
    "We could see from the above answer that the space nodes (the first array) are not evenly distributed, but the weights (the second array) are the same with those in Exercise 2.2"
   ]
  },
  {
   "cell_type": "markdown",
   "metadata": {},
   "source": [
    "## Exercies 2.4"
   ]
  },
  {
   "cell_type": "code",
   "execution_count": 21,
   "metadata": {},
   "outputs": [
    {
     "name": "stdout",
     "output_type": "stream",
     "text": [
      "The approximation of the average income in U.S. is: 50352.45619276591\n",
      "The absolute error of the approximation is: 341.3691842441549\n",
      "The relative error of the approximation is: 0.006825870115280368\n"
     ]
    }
   ],
   "source": [
    "a=lf(10.5,0.8,11,3)\n",
    "sum=0\n",
    "for i in range(11):\n",
    "    sum+=a[0][i]*a[1][i]\n",
    "print('The approximation of the average income in U.S. is:',sum)\n",
    "relative=abs((sum-math.exp(10.5+0.32)))/math.exp(10.5+0.32)\n",
    "print('The absolute error of the approximation is:',sum-math.exp(10.5+0.32))\n",
    "print('The relative error of the approximation is:',relative)"
   ]
  },
  {
   "cell_type": "markdown",
   "metadata": {},
   "source": [
    "## Exercise 3.1"
   ]
  },
  {
   "cell_type": "code",
   "execution_count": 5,
   "metadata": {},
   "outputs": [
    {
     "name": "stdout",
     "output_type": "stream",
     "text": [
      "The approximated intergral using Gaussian quadrature: 4373.333333588602\n",
      "The absolute error to the answer in exercies 2.1: 0.00852027593737148\n",
      "The absolute error to the true value: 0.0033335886018903693\n"
     ]
    }
   ],
   "source": [
    "def g(x):\n",
    "    x=0.1*(x**4)-1.5*x**3+0.53*x**2+2*x+1\n",
    "    return x\n",
    "def func(x):\n",
    "    return [x[0]+x[1]+x[2]-20,\n",
    "           x[0]*x[3]+x[1]*x[4]+x[2]*x[5]-0,\n",
    "           x[0]*(x[3]**2)+x[1]*(x[4]**2)+x[2]*(x[5]**2)-2000/3,\n",
    "           x[0]*(x[3]**3)+x[1]*(x[4]**3)+x[2]*(x[5]**3-0),\n",
    "            x[0]*(x[3]**4)+x[1]*(x[4]**4)+x[2]*(x[5]**4)-((10**5)*2)/5,\n",
    "            x[0]*(x[3]**5)+x[1]*(x[4]**5)+x[2]*(x[5]**5)-0]\n",
    "s=scipy.optimize.root(func,[20/3,20/3,20/3,-10,0,10])\n",
    "print('The approximated intergral using Gaussian quadrature:', s.x[0]*g(s.x[3])+s.x[1]*g(s.x[4])+s.x[2]*g(s.x[5]))\n",
    "print('The absolute error to the answer in exercies 2.1:',s.x[0]*g(s.x[3])+s.x[1]*g(s.x[4])+s.x[2]*g(s.x[5])-ing(g,-10,10,1000000))\n",
    "print('The absolute error to the true value:',s.x[0]*g(s.x[3])+s.x[1]*g(s.x[4])+s.x[2]*g(s.x[5])-4373.33)"
   ]
  },
  {
   "cell_type": "markdown",
   "metadata": {},
   "source": [
    "## Exercies 3.2"
   ]
  },
  {
   "cell_type": "code",
   "execution_count": 6,
   "metadata": {},
   "outputs": [
    {
     "name": "stdout",
     "output_type": "stream",
     "text": [
      "The approximated interger using the scipy.integrate.quad is: 4373.333333333334\n",
      "The absloute error using this method is: 8.109531705284936e-11\n"
     ]
    }
   ],
   "source": [
    "from scipy import integrate\n",
    "print('The approximated interger using the scipy.integrate.quad is:',scipy.integrate.quad(g,-10,10)[0])\n",
    "print('The absloute error using this method is:',scipy.integrate.quad(g,-10,10)[1])"
   ]
  },
  {
   "cell_type": "markdown",
   "metadata": {},
   "source": [
    "## Exercise 4.1"
   ]
  },
  {
   "cell_type": "code",
   "execution_count": 24,
   "metadata": {},
   "outputs": [
    {
     "name": "stdout",
     "output_type": "stream",
     "text": [
      "N=10000: 3.126\n",
      "N=100000: 3.14336\n",
      "N=1000000: 3.141592\n",
      "N=990000: 3.141737373737374\n",
      "N=999000: 3.1415935935935937\n"
     ]
    }
   ],
   "source": [
    "import random\n",
    "def f(g,oumu,n):\n",
    "    ans=0\n",
    "    random.seed(25)\n",
    "    for i in range(n):\n",
    "        x=random.uniform(oumu[0][0],oumu[0][1])\n",
    "        y=random.uniform(oumu[1][0],oumu[1][1])\n",
    "        ans+=g(x,y)\n",
    "    return ans\n",
    "def g(x,y):\n",
    "    if x**2+y**2<1:\n",
    "        return 1\n",
    "    else:\n",
    "        return 0\n",
    "print('N=10000:',4*f(g,[[-1,1],[-1,1]],10000)/10000)\n",
    "print('N=100000:',4*f(g,[[-1,1],[-1,1]],100000)/100000)\n",
    "print('N=1000000:',4*f(g,[[-1,1],[-1,1]],1000000)/1000000)\n",
    "print('N=990000:',4*f(g,[[-1,1],[-1,1]],990000)/990000)\n",
    "print('N=999000:',4*f(g,[[-1,1],[-1,1]],999000)/999000)"
   ]
  },
  {
   "cell_type": "markdown",
   "metadata": {},
   "source": [
    "Therefore, in order to match the true value to the 4th decimal, we need set N at least 999000 (i.e. about 1000000)"
   ]
  },
  {
   "cell_type": "markdown",
   "metadata": {},
   "source": [
    "## Exercies 4.2"
   ]
  },
  {
   "cell_type": "code",
   "execution_count": 16,
   "metadata": {},
   "outputs": [],
   "source": [
    "def prime(x):\n",
    "    # Return True if x is a prime number. Otherwise, return False\n",
    "    ans=True\n",
    "    for i in range(2,int(math.sqrt(x))+1):\n",
    "        if x%i==0:\n",
    "            return False\n",
    "            break\n",
    "    return ans\n",
    "def p(n):\n",
    "    # Return the nth prime number\n",
    "    a=[]\n",
    "    i=2\n",
    "    while len(a)<n:\n",
    "        if prime(i)==True:\n",
    "            a.append(i)\n",
    "        i+=1\n",
    "    return a[-1]\n",
    "def quam(n,d,method='Weyl'):\n",
    "    if method=='Weyl':\n",
    "        return [n*(p(i)**(1/2))-int(n*(p(i)**(1/2))) for i in range(1,d+1)]\n",
    "    elif method=='Haber':\n",
    "        return [(((n*(n+1))/2))*((p(i))**(1/2))-int((((n*(n+1))/2))*((p(i))**(1/2))) for i in range(1,d+1)]\n",
    "    elif method=='Niederreiter':\n",
    "        return [n*(2**(i/(n+1)))-int(n*(2**(i/(n+1)))) for i in range(1,d+1)]\n",
    "    elif method=='Baker':\n",
    "        return [n*math.exp(1/i)-int(n*math.exp(1/i)) for i in range(1,d+1)]"
   ]
  },
  {
   "cell_type": "markdown",
   "metadata": {},
   "source": [
    "## Exercise 4.3"
   ]
  },
  {
   "cell_type": "code",
   "execution_count": 27,
   "metadata": {},
   "outputs": [
    {
     "name": "stdout",
     "output_type": "stream",
     "text": [
      "N=10000 3.1412\n",
      "N=100000 3.14036\n",
      "N=1000000 3.14148\n"
     ]
    }
   ],
   "source": [
    "import random\n",
    "random.seed(25)\n",
    "def ff(g,n,method='Weyl'):\n",
    "    ans=0\n",
    "    for i in range(1,n+1):\n",
    "        x=quam(i,2,method)[0]\n",
    "        y=quam(i,2,method)[1]\n",
    "        ans+=g(x,y)\n",
    "    return ans\n",
    "def g(x,y):\n",
    "    if x**2+y**2<1:\n",
    "        return 1\n",
    "    else:\n",
    "        return 0\n",
    "print('N=10000',4*ff(g,10000)/10000)\n",
    "print('N=100000',4*ff(g,100000)/100000)\n",
    "print('N=1000000',4*ff(g,1000000)/1000000)"
   ]
  },
  {
   "cell_type": "markdown",
   "metadata": {},
   "source": [
    "We could from the above answer that in order to match the true value to the 4th decimal, we need set N at least about 1000000"
   ]
  }
 ],
 "metadata": {
  "kernelspec": {
   "display_name": "Python 3",
   "language": "python",
   "name": "python3"
  },
  "language_info": {
   "codemirror_mode": {
    "name": "ipython",
    "version": 3
   },
   "file_extension": ".py",
   "mimetype": "text/x-python",
   "name": "python",
   "nbconvert_exporter": "python",
   "pygments_lexer": "ipython3",
   "version": "3.6.6"
  }
 },
 "nbformat": 4,
 "nbformat_minor": 2
}
