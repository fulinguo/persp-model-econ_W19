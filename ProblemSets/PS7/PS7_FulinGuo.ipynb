{
 "cells": [
  {
   "cell_type": "markdown",
   "metadata": {},
   "source": [
    "# Problem Set 7"
   ]
  },
  {
   "cell_type": "markdown",
   "metadata": {},
   "source": [
    "## Fulin Guo"
   ]
  },
  {
   "cell_type": "markdown",
   "metadata": {},
   "source": [
    "### 1"
   ]
  },
  {
   "cell_type": "markdown",
   "metadata": {},
   "source": [
    "#### a"
   ]
  },
  {
   "cell_type": "code",
   "execution_count": 176,
   "metadata": {},
   "outputs": [],
   "source": [
    "import numpy as np\n",
    "import pandas as pd\n",
    "from sklearn.model_selection import train_test_split,LeaveOneOut, KFold\n",
    "from sklearn.metrics import classification_report\n",
    "from sklearn.linear_model import LogisticRegression"
   ]
  },
  {
   "cell_type": "code",
   "execution_count": 177,
   "metadata": {},
   "outputs": [],
   "source": [
    "wines=pd.read_csv('/Users/fulinguo/Desktop/persp-model-econ_W19/ProblemSets/PS7/data/strongdrink.txt')"
   ]
  },
  {
   "cell_type": "code",
   "execution_count": 178,
   "metadata": {},
   "outputs": [
    {
     "name": "stdout",
     "output_type": "stream",
     "text": [
      "The intercept for j=1: -24.011331526271427\n",
      "The coefficients for j=1: [ 1.70043264 -0.26560971  1.22389447  0.02274778]\n",
      "The intercept for j=2: 22.801680361781052\n",
      "The coefficients for j=2: [-1.46798523 -0.33305092  0.66400603 -0.92270882]\n"
     ]
    }
   ],
   "source": [
    "X=wines[['alco','malic','tot_phen','color_int']]\n",
    "y=wines['cultivar']\n",
    "X_train, X_test, y_train, y_test = \\\n",
    "    train_test_split(X, y, test_size = 0.25, random_state=20)\n",
    "LogReg = LogisticRegression(multi_class='multinomial',solver='newton-cg')\n",
    "LogReg.fit(X_train, y_train)\n",
    "print('The intercept for j=1:',LogReg.intercept_[0])\n",
    "print('The coefficients for j=1:',LogReg.coef_[0])\n",
    "print('The intercept for j=2:',LogReg.intercept_[1])\n",
    "print('The coefficients for j=2:',LogReg.coef_[1])"
   ]
  },
  {
   "cell_type": "code",
   "execution_count": 179,
   "metadata": {},
   "outputs": [
    {
     "name": "stdout",
     "output_type": "stream",
     "text": [
      "              precision    recall  f1-score   support\n",
      "\n",
      "           1       0.87      1.00      0.93        13\n",
      "           2       1.00      0.90      0.95        21\n",
      "           3       1.00      1.00      1.00        10\n",
      "\n",
      "   micro avg       0.95      0.95      0.95        44\n",
      "   macro avg       0.96      0.97      0.96        44\n",
      "weighted avg       0.96      0.95      0.96        44\n",
      "\n"
     ]
    }
   ],
   "source": [
    "y_pred=LogReg.predict(X_test)\n",
    "print(classification_report(y_test, y_pred))"
   ]
  },
  {
   "cell_type": "markdown",
   "metadata": {},
   "source": [
    "The error rate for category 1 is 0.13, for category 2 is 0, for category 3 is also 0"
   ]
  },
  {
   "cell_type": "markdown",
   "metadata": {},
   "source": [
    "The model predicts category 3 best since its precision, recall, and f1-score are the highest among the three categories."
   ]
  },
  {
   "cell_type": "code",
   "execution_count": 180,
   "metadata": {},
   "outputs": [
    {
     "name": "stdout",
     "output_type": "stream",
     "text": [
      "The number of observations with cultivar =1: 59\n",
      "The number of observations with cultivar =2: 71\n",
      "The number of observations with cultivar =3: 46\n",
      "The number of observations with cultivar =1 in the training set: 46\n",
      "The number of observations with cultivar =2 in the training set: 50\n",
      "The number of observations with cultivar =3 in the training set: 36\n"
     ]
    }
   ],
   "source": [
    "print('The number of observations with cultivar =1:',np.sum(wines['cultivar']==1))\n",
    "print('The number of observations with cultivar =2:',np.sum(wines['cultivar']==2))\n",
    "print('The number of observations with cultivar =3:',np.sum(wines['cultivar']==3))\n",
    "print('The number of observations with cultivar =1 in the training set:',sum(y_train==1))\n",
    "print('The number of observations with cultivar =2 in the training set:',sum(y_train==2))\n",
    "print('The number of observations with cultivar =3 in the training set:',sum(y_train==3))"
   ]
  },
  {
   "cell_type": "markdown",
   "metadata": {},
   "source": [
    "Therefore, the most accurately predicted category is not the one with the most observations since category 3 has the least number of observations."
   ]
  },
  {
   "cell_type": "code",
   "execution_count": 181,
   "metadata": {},
   "outputs": [
    {
     "name": "stdout",
     "output_type": "stream",
     "text": [
      "The MSE from the test set = 0.045454545454545456\n"
     ]
    }
   ],
   "source": [
    "MSE=np.sum((y_test!=y_pred)**2)/len(y_pred)\n",
    "print('The MSE from the test set =',MSE)"
   ]
  },
  {
   "cell_type": "markdown",
   "metadata": {},
   "source": [
    "#### b"
   ]
  },
  {
   "cell_type": "code",
   "execution_count": 182,
   "metadata": {},
   "outputs": [],
   "source": [
    "Xv=X.values\n",
    "yv=y.values\n",
    "N_loo=len(Xv)\n",
    "loo=LeaveOneOut()\n",
    "loo.get_n_splits(Xv)\n",
    "MSE_vec=np.zeros(N_loo)"
   ]
  },
  {
   "cell_type": "code",
   "execution_count": 183,
   "metadata": {},
   "outputs": [],
   "source": [
    "yp=[]\n",
    "yt=[]\n",
    "for train_index, test_index in loo.split(Xv):\n",
    "    X_train, X_test=Xv[train_index], Xv[test_index]\n",
    "    y_train, y_test=yv[train_index], yv[test_index]\n",
    "    LogReg=LogisticRegression(multi_class='multinomial',solver='newton-cg')\n",
    "    LogReg.fit(X_train, y_train)\n",
    "    y_pred=LogReg.predict(X_test)\n",
    "    yp.append(y_pred)\n",
    "    yt.append(y_test)\n",
    "    MSE_vec[test_index]=(y_test!=y_pred)**2"
   ]
  },
  {
   "cell_type": "code",
   "execution_count": 184,
   "metadata": {},
   "outputs": [
    {
     "name": "stdout",
     "output_type": "stream",
     "text": [
      "              precision    recall  f1-score   support\n",
      "\n",
      "           1       0.90      0.93      0.92        59\n",
      "           2       0.91      0.90      0.91        71\n",
      "           3       0.96      0.93      0.95        46\n",
      "\n",
      "   micro avg       0.92      0.92      0.92       176\n",
      "   macro avg       0.92      0.92      0.92       176\n",
      "weighted avg       0.92      0.92      0.92       176\n",
      "\n"
     ]
    }
   ],
   "source": [
    "print(classification_report(yt, yp))"
   ]
  },
  {
   "cell_type": "markdown",
   "metadata": {},
   "source": [
    "The error rate for category 1 is 0.10, for category 2 is 0.09, for category 3 is 0.04 \n",
    "\n",
    "We can note that category 3 has the least error rate, which is the same as part (a). Another finding is that roughly speaking, the error rates are larger in part (b) than that in part (a). In particular, the error rates for category 2 and 3 are larger than their corresponding error rates in part (a). The error rate for category 1 is smaller than that in part(a)."
   ]
  },
  {
   "cell_type": "code",
   "execution_count": 185,
   "metadata": {},
   "outputs": [],
   "source": [
    "MSE_loo = MSE_vec.mean()"
   ]
  },
  {
   "cell_type": "code",
   "execution_count": 186,
   "metadata": {},
   "outputs": [
    {
     "name": "stdout",
     "output_type": "stream",
     "text": [
      "The LOOCV estimate for the test MSE is: 0.07954545454545454\n"
     ]
    }
   ],
   "source": [
    "print('The LOOCV estimate for the test MSE is:', MSE_loo)"
   ]
  },
  {
   "cell_type": "markdown",
   "metadata": {},
   "source": [
    "#### c"
   ]
  },
  {
   "cell_type": "code",
   "execution_count": 187,
   "metadata": {},
   "outputs": [
    {
     "name": "stdout",
     "output_type": "stream",
     "text": [
      "              precision    recall  f1-score   support\n",
      "\n",
      "           1       0.87      0.93      0.90        59\n",
      "           2       0.91      0.87      0.89        71\n",
      "           3       0.96      0.93      0.95        46\n",
      "\n",
      "   micro avg       0.91      0.91      0.91       176\n",
      "   macro avg       0.91      0.91      0.91       176\n",
      "weighted avg       0.91      0.91      0.91       176\n",
      "\n"
     ]
    }
   ],
   "source": [
    "k=4\n",
    "kf = KFold(n_splits=4, shuffle=True, random_state=10)\n",
    "kf.get_n_splits(Xv)\n",
    "MSE_vec_kf = np.zeros(k)\n",
    "k_ind = int(0)\n",
    "ypk=[]\n",
    "ytk=[]\n",
    "for train_index, test_index in kf.split(Xv):\n",
    "    X_train, X_test = Xv[train_index], Xv[test_index]\n",
    "    y_train, y_test = yv[train_index], yv[test_index]\n",
    "    LogReg = LogisticRegression(multi_class='multinomial',solver='newton-cg')\n",
    "    LogReg.fit(X_train, y_train)\n",
    "    y_pred = LogReg.predict(X_test)\n",
    "    MSE_vec_kf[k_ind] = ((y_test != y_pred) ** 2).mean()\n",
    "    k_ind += 1\n",
    "    ypk.extend(y_pred)\n",
    "    ytk.extend(y_test)\n",
    "print(classification_report(ytk, ypk))"
   ]
  },
  {
   "cell_type": "markdown",
   "metadata": {},
   "source": [
    "The error rate for category 1 is 0.13, for category 2 is 0.09, for category 3 is 0.04\n",
    "\n",
    "We can note that category 3 has the least error rate, which is the same as part (a) and (b). Another finding is that roughly speaking, the error rates in part (c) are larger than that in part (a), and are slightly larger than that in part (b). In particular, the error rates for the three categories in part (c) are larger than their corresponding error rates in part (a) except that category 1's error rates are the same in these two parts. The error rate for category 1 is larger than its error rate in part (b), and the error rates for category 2 and 3 in part (c) are (roughly) the same as that in part (b)."
   ]
  },
  {
   "cell_type": "code",
   "execution_count": 188,
   "metadata": {},
   "outputs": [
    {
     "name": "stdout",
     "output_type": "stream",
     "text": [
      "The k-fold estimate for the test MSE is: 0.09090909090909091\n"
     ]
    }
   ],
   "source": [
    "MSE_kf = MSE_vec_kf.mean()\n",
    "print('The k-fold estimate for the test MSE is:', MSE_kf)"
   ]
  },
  {
   "cell_type": "markdown",
   "metadata": {},
   "source": [
    "### 2"
   ]
  },
  {
   "cell_type": "markdown",
   "metadata": {},
   "source": [
    "#### a"
   ]
  },
  {
   "cell_type": "code",
   "execution_count": 189,
   "metadata": {},
   "outputs": [],
   "source": [
    "import matplotlib.pyplot as plt\n",
    "data2=pd.read_csv('/Users/fulinguo/Desktop/persp-model-econ_W19/ProblemSets/PS7/data/CoolIndex.txt',\n",
    "                  header=None,names=['age','cool'])"
   ]
  },
  {
   "cell_type": "code",
   "execution_count": 190,
   "metadata": {},
   "outputs": [
    {
     "data": {
      "text/plain": [
       "Text(0.5, 1.0, 'Individuals coolness and age')"
      ]
     },
     "execution_count": 190,
     "metadata": {},
     "output_type": "execute_result"
    },
    {
     "data": {
      "image/png": "[encoded data removed]",
      "text/plain": [
       "<Figure size 432x288 with 1 Axes>"
      ]
     },
     "metadata": {
      "needs_background": "light"
     },
     "output_type": "display_data"
    }
   ],
   "source": [
    "plt.scatter(data2['age'],data2['cool'])\n",
    "plt.xlabel('age')\n",
    "plt.ylabel('coolness index')\n",
    "plt.title('Individuals coolness and age')"
   ]
  },
  {
   "cell_type": "markdown",
   "metadata": {},
   "source": [
    "#### b"
   ]
  },
  {
   "cell_type": "code",
   "execution_count": 191,
   "metadata": {},
   "outputs": [
    {
     "name": "stderr",
     "output_type": "stream",
     "text": [
      "/Users/fulinguo/anaconda3/lib/python3.6/site-packages/ipykernel_launcher.py:6: SettingWithCopyWarning: \n",
      "A value is trying to be set on a copy of a slice from a DataFrame\n",
      "\n",
      "See the caveats in the documentation: http://pandas.pydata.org/pandas-docs/stable/indexing.html#indexing-view-versus-copy\n",
      "  \n",
      "/Users/fulinguo/anaconda3/lib/python3.6/site-packages/ipykernel_launcher.py:7: SettingWithCopyWarning: \n",
      "A value is trying to be set on a copy of a slice from a DataFrame\n",
      "\n",
      "See the caveats in the documentation: http://pandas.pydata.org/pandas-docs/stable/indexing.html#indexing-view-versus-copy\n",
      "  import sys\n",
      "/Users/fulinguo/anaconda3/lib/python3.6/site-packages/ipykernel_launcher.py:8: SettingWithCopyWarning: \n",
      "A value is trying to be set on a copy of a slice from a DataFrame\n",
      "\n",
      "See the caveats in the documentation: http://pandas.pydata.org/pandas-docs/stable/indexing.html#indexing-view-versus-copy\n",
      "  \n",
      "/Users/fulinguo/anaconda3/lib/python3.6/site-packages/ipykernel_launcher.py:9: SettingWithCopyWarning: \n",
      "A value is trying to be set on a copy of a slice from a DataFrame\n",
      "\n",
      "See the caveats in the documentation: http://pandas.pydata.org/pandas-docs/stable/indexing.html#indexing-view-versus-copy\n",
      "  if __name__ == '__main__':\n",
      "/Users/fulinguo/anaconda3/lib/python3.6/site-packages/ipykernel_launcher.py:10: SettingWithCopyWarning: \n",
      "A value is trying to be set on a copy of a slice from a DataFrame\n",
      "\n",
      "See the caveats in the documentation: http://pandas.pydata.org/pandas-docs/stable/indexing.html#indexing-view-versus-copy\n",
      "  # Remove the CWD from sys.path while we load stuff.\n"
     ]
    }
   ],
   "source": [
    "data2['age11']=((data2['age']>=11) & (data2['age']<22))\n",
    "data2['age22']=((data2['age']>=22) & (data2['age']<40))\n",
    "data2['age40']=((data2['age']>=40) & (data2['age']<59))\n",
    "data2['age59']=((data2['age']>=59) & (data2['age']<77))\n",
    "data2['age77']=((data2['age']>=77) & (data2['age']<=95))\n",
    "data2['age11'][data2['age11']]=1\n",
    "data2['age22'][data2['age22']]=1\n",
    "data2['age40'][data2['age40']]=1\n",
    "data2['age59'][data2['age59']]=1\n",
    "data2['age77'][data2['age77']]=1"
   ]
  },
  {
   "cell_type": "code",
   "execution_count": 192,
   "metadata": {},
   "outputs": [
    {
     "name": "stdout",
     "output_type": "stream",
     "text": [
      "                            OLS Regression Results                            \n",
      "==============================================================================\n",
      "Dep. Variable:                   cool   R-squared:                       0.429\n",
      "Model:                            OLS   Adj. R-squared:                  0.427\n",
      "Method:                 Least Squares   F-statistic:                     178.7\n",
      "Date:                Wed, 27 Feb 2019   Prob (F-statistic):          3.73e-114\n",
      "Time:                        01:05:23   Log-Likelihood:                -3214.5\n",
      "No. Observations:                 956   AIC:                             6439.\n",
      "Df Residuals:                     951   BIC:                             6463.\n",
      "Df Model:                           4                                         \n",
      "Covariance Type:            nonrobust                                         \n",
      "==============================================================================\n",
      "                 coef    std err          t      P>|t|      [0.025      0.975]\n",
      "------------------------------------------------------------------------------\n",
      "age11         20.1025      0.562     35.746      0.000      18.999      21.206\n",
      "age22         34.4758      0.431     80.006      0.000      33.630      35.321\n",
      "age40         37.6351      0.424     88.814      0.000      36.804      38.467\n",
      "age59         35.2254      0.485     72.560      0.000      34.273      36.178\n",
      "age77         27.2964      0.936     29.175      0.000      25.460      29.132\n",
      "==============================================================================\n",
      "Omnibus:                       80.102   Durbin-Watson:                   1.236\n",
      "Prob(Omnibus):                  0.000   Jarque-Bera (JB):              101.718\n",
      "Skew:                           0.714   Prob(JB):                     8.17e-23\n",
      "Kurtosis:                       3.719   Cond. No.                         2.21\n",
      "==============================================================================\n",
      "\n",
      "Warnings:\n",
      "[1] Standard Errors assume that the covariance matrix of the errors is correctly specified.\n"
     ]
    }
   ],
   "source": [
    "import statsmodels.api as sm\n",
    "reg1 = sm.OLS(endog=data2['cool'], exog=data2[['age11','age22','age40','age59','age77']])\n",
    "results = reg1.fit()\n",
    "print(results.summary())"
   ]
  },
  {
   "cell_type": "code",
   "execution_count": 193,
   "metadata": {},
   "outputs": [
    {
     "data": {
      "text/plain": [
       "<matplotlib.legend.Legend at 0x1c1a7aff60>"
      ]
     },
     "execution_count": 193,
     "metadata": {},
     "output_type": "execute_result"
    },
    {
     "data": {
      "image/png": "[encoded data removed]",
      "text/plain": [
       "<Figure size 432x288 with 1 Axes>"
      ]
     },
     "metadata": {
      "needs_background": "light"
     },
     "output_type": "display_data"
    }
   ],
   "source": [
    "pre_cool=results.predict(exog=data2[['age11','age22','age40','age59','age77']])\n",
    "plt.scatter(data2['age'],data2['cool'],label='scatter')\n",
    "plt.plot(data2['age'],pre_cool,'orange', lw=5,label='step function')\n",
    "plt.xlabel('age')\n",
    "plt.ylabel('coolness index')\n",
    "plt.title('Individuals coolness and age')\n",
    "plt.legend()"
   ]
  },
  {
   "cell_type": "code",
   "execution_count": 194,
   "metadata": {},
   "outputs": [
    {
     "name": "stdout",
     "output_type": "stream",
     "text": [
      "The estimated step function values for each bin:\n",
      "age11    20.102457\n",
      "age22    34.475788\n",
      "age40    37.635105\n",
      "age59    35.225400\n",
      "age77    27.296378\n",
      "dtype: float64\n"
     ]
    }
   ],
   "source": [
    "print('The estimated step function values for each bin:')\n",
    "print(results.params)"
   ]
  },
  {
   "cell_type": "code",
   "execution_count": 195,
   "metadata": {},
   "outputs": [
    {
     "name": "stdout",
     "output_type": "stream",
     "text": [
      "The predicted coolness of a 73-year old from the stepwise function is: 35.22540004024275\n"
     ]
    }
   ],
   "source": [
    "pre=results.predict(exog=[0, 0, 0, 1, 0])[0]\n",
    "print('The predicted coolness of a 73-year old from the stepwise function is:',pre)"
   ]
  },
  {
   "cell_type": "markdown",
   "metadata": {},
   "source": [
    "#### c"
   ]
  },
  {
   "cell_type": "code",
   "execution_count": 196,
   "metadata": {},
   "outputs": [],
   "source": [
    "from scipy.interpolate import LSQUnivariateSpline"
   ]
  },
  {
   "cell_type": "code",
   "execution_count": 197,
   "metadata": {},
   "outputs": [],
   "source": [
    "t=np.array([22,40,59,77])\n",
    "age0=data2['age'][0]\n",
    "incre_age=[age0]\n",
    "incre_cool=[]\n",
    "a=0\n",
    "for i in range(1,len(data2['age'])):\n",
    "    if data2['age'][i]!=age0:\n",
    "        incre_age.append(data2['age'][i])\n",
    "        incre_cool.append(sum(data2['cool'][a:i])/(i-a))\n",
    "        a=i\n",
    "    age0=data2['age'][i]\n",
    "    if i==len(data2['age'])-1:\n",
    "        incre_cool.append(sum(data2['cool'][a:i+1])/(i-a+1))\n",
    "incre_age=np.array(incre_age)\n",
    "incre_cool=np.array(incre_cool)\n",
    "ans=LSQUnivariateSpline(incre_age, incre_cool, t,k=1)"
   ]
  },
  {
   "cell_type": "code",
   "execution_count": 198,
   "metadata": {},
   "outputs": [
    {
     "data": {
      "text/plain": [
       "<matplotlib.legend.Legend at 0x1c1a672198>"
      ]
     },
     "execution_count": 198,
     "metadata": {},
     "output_type": "execute_result"
    },
    {
     "data": {
      "image/png": "[encoded data removed]",
      "text/plain": [
       "<Figure size 432x288 with 1 Axes>"
      ]
     },
     "metadata": {
      "needs_background": "light"
     },
     "output_type": "display_data"
    }
   ],
   "source": [
    "plt.scatter(data2['age'],data2['cool'],label='scatter')\n",
    "plt.plot(data2['age'],pre_cool,'orange', lw=5, label='step function')\n",
    "plt.plot(incre_age, ans(incre_age), 'r-', lw=5,label='continuous linear spline (k=1)')\n",
    "plt.xlabel('age')\n",
    "plt.ylabel('coolness index')\n",
    "plt.title('Individuals coolness and age')\n",
    "plt.legend()"
   ]
  },
  {
   "cell_type": "code",
   "execution_count": 199,
   "metadata": {},
   "outputs": [
    {
     "name": "stdout",
     "output_type": "stream",
     "text": [
      "The predicted coolness of a 73-year old from the stepwise function is: 32.86784862349653\n"
     ]
    }
   ],
   "source": [
    "pre2=ans(73)\n",
    "print('The predicted coolness of a 73-year old from the stepwise function is:',pre2)"
   ]
  },
  {
   "cell_type": "markdown",
   "metadata": {},
   "source": [
    "#### d"
   ]
  },
  {
   "cell_type": "code",
   "execution_count": 200,
   "metadata": {},
   "outputs": [
    {
     "data": {
      "text/plain": [
       "<matplotlib.legend.Legend at 0x1c1a7560f0>"
      ]
     },
     "execution_count": 200,
     "metadata": {},
     "output_type": "execute_result"
    },
    {
     "data": {
      "image/png": "[encoded data removed]",
      "text/plain": [
       "<Figure size 432x288 with 1 Axes>"
      ]
     },
     "metadata": {
      "needs_background": "light"
     },
     "output_type": "display_data"
    }
   ],
   "source": [
    "ans2=LSQUnivariateSpline(incre_age, incre_cool, t,k=3)\n",
    "plt.scatter(data2['age'],data2['cool'],label='scatter')\n",
    "plt.plot(data2['age'],pre_cool,'orange', lw=5, label='step function')\n",
    "plt.plot(incre_age, ans(incre_age), 'r-', lw=5,label='continuous linear spline (k=1)')\n",
    "plt.plot(incre_age, ans2(incre_age), 'b-', lw=5,label='continuous cubic spline (k=3)')\n",
    "plt.xlabel('age')\n",
    "plt.ylabel('coolness index')\n",
    "plt.title('Individuals coolness and age')\n",
    "plt.legend()"
   ]
  },
  {
   "cell_type": "code",
   "execution_count": 201,
   "metadata": {},
   "outputs": [
    {
     "name": "stdout",
     "output_type": "stream",
     "text": [
      "The predicted coolness of a 73-year old from the stepwise function is: 32.642301066279764\n"
     ]
    }
   ],
   "source": [
    "pre3=ans2(73)\n",
    "print('The predicted coolness of a 73-year old from the stepwise function is:',pre3)"
   ]
  },
  {
   "cell_type": "code",
   "execution_count": null,
   "metadata": {},
   "outputs": [],
   "source": []
  }
 ],
 "metadata": {
  "kernelspec": {
   "display_name": "Python 3",
   "language": "python",
   "name": "python3"
  },
  "language_info": {
   "codemirror_mode": {
    "name": "ipython",
    "version": 3
   },
   "file_extension": ".py",
   "mimetype": "text/x-python",
   "name": "python",
   "nbconvert_exporter": "python",
   "pygments_lexer": "ipython3",
   "version": "3.6.8"
  }
 },
 "nbformat": 4,
 "nbformat_minor": 2
}
