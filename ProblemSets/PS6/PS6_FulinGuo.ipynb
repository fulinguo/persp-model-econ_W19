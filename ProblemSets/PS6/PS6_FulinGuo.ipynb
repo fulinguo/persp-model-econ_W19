{
 "cells": [
  {
   "cell_type": "markdown",
   "metadata": {},
   "source": [
    "# Problem set 6"
   ]
  },
  {
   "cell_type": "markdown",
   "metadata": {},
   "source": [
    "## Fulin Guo"
   ]
  },
  {
   "cell_type": "markdown",
   "metadata": {},
   "source": [
    "### 1."
   ]
  },
  {
   "cell_type": "markdown",
   "metadata": {},
   "source": [
    "#### a."
   ]
  },
  {
   "cell_type": "code",
   "execution_count": 1,
   "metadata": {},
   "outputs": [],
   "source": [
    "import pandas as pd\n",
    "df1 = pd.read_csv('/Users/fulinguo/Desktop/persp-model-econ_W19/ProblemSets/PS6/data/Auto.csv',na_values='?')"
   ]
  },
  {
   "cell_type": "code",
   "execution_count": 2,
   "metadata": {},
   "outputs": [
    {
     "data": {
      "text/html": [
       "<div>\n",
       "<style scoped>\n",
       "    .dataframe tbody tr th:only-of-type {\n",
       "        vertical-align: middle;\n",
       "    }\n",
       "\n",
       "    .dataframe tbody tr th {\n",
       "        vertical-align: top;\n",
       "    }\n",
       "\n",
       "    .dataframe thead th {\n",
       "        text-align: right;\n",
       "    }\n",
       "</style>\n",
       "<table border=\"1\" class=\"dataframe\">\n",
       "  <thead>\n",
       "    <tr style=\"text-align: right;\">\n",
       "      <th></th>\n",
       "      <th>mpg</th>\n",
       "      <th>cylinders</th>\n",
       "      <th>displacement</th>\n",
       "      <th>horsepower</th>\n",
       "      <th>weight</th>\n",
       "      <th>acceleration</th>\n",
       "      <th>year</th>\n",
       "      <th>origin</th>\n",
       "      <th>name</th>\n",
       "    </tr>\n",
       "  </thead>\n",
       "  <tbody>\n",
       "    <tr>\n",
       "      <th>0</th>\n",
       "      <td>18.0</td>\n",
       "      <td>8</td>\n",
       "      <td>307.0</td>\n",
       "      <td>130.0</td>\n",
       "      <td>3504</td>\n",
       "      <td>12.0</td>\n",
       "      <td>70</td>\n",
       "      <td>1</td>\n",
       "      <td>chevrolet chevelle malibu</td>\n",
       "    </tr>\n",
       "    <tr>\n",
       "      <th>1</th>\n",
       "      <td>15.0</td>\n",
       "      <td>8</td>\n",
       "      <td>350.0</td>\n",
       "      <td>165.0</td>\n",
       "      <td>3693</td>\n",
       "      <td>11.5</td>\n",
       "      <td>70</td>\n",
       "      <td>1</td>\n",
       "      <td>buick skylark 320</td>\n",
       "    </tr>\n",
       "    <tr>\n",
       "      <th>2</th>\n",
       "      <td>18.0</td>\n",
       "      <td>8</td>\n",
       "      <td>318.0</td>\n",
       "      <td>150.0</td>\n",
       "      <td>3436</td>\n",
       "      <td>11.0</td>\n",
       "      <td>70</td>\n",
       "      <td>1</td>\n",
       "      <td>plymouth satellite</td>\n",
       "    </tr>\n",
       "    <tr>\n",
       "      <th>3</th>\n",
       "      <td>16.0</td>\n",
       "      <td>8</td>\n",
       "      <td>304.0</td>\n",
       "      <td>150.0</td>\n",
       "      <td>3433</td>\n",
       "      <td>12.0</td>\n",
       "      <td>70</td>\n",
       "      <td>1</td>\n",
       "      <td>amc rebel sst</td>\n",
       "    </tr>\n",
       "    <tr>\n",
       "      <th>4</th>\n",
       "      <td>17.0</td>\n",
       "      <td>8</td>\n",
       "      <td>302.0</td>\n",
       "      <td>140.0</td>\n",
       "      <td>3449</td>\n",
       "      <td>10.5</td>\n",
       "      <td>70</td>\n",
       "      <td>1</td>\n",
       "      <td>ford torino</td>\n",
       "    </tr>\n",
       "  </tbody>\n",
       "</table>\n",
       "</div>"
      ],
      "text/plain": [
       "    mpg  cylinders  displacement  horsepower  weight  acceleration  year  \\\n",
       "0  18.0          8         307.0       130.0    3504          12.0    70   \n",
       "1  15.0          8         350.0       165.0    3693          11.5    70   \n",
       "2  18.0          8         318.0       150.0    3436          11.0    70   \n",
       "3  16.0          8         304.0       150.0    3433          12.0    70   \n",
       "4  17.0          8         302.0       140.0    3449          10.5    70   \n",
       "\n",
       "   origin                       name  \n",
       "0       1  chevrolet chevelle malibu  \n",
       "1       1          buick skylark 320  \n",
       "2       1         plymouth satellite  \n",
       "3       1              amc rebel sst  \n",
       "4       1                ford torino  "
      ]
     },
     "execution_count": 2,
     "metadata": {},
     "output_type": "execute_result"
    }
   ],
   "source": [
    "df1.head()"
   ]
  },
  {
   "cell_type": "markdown",
   "metadata": {},
   "source": [
    "#### b."
   ]
  },
  {
   "cell_type": "code",
   "execution_count": 4,
   "metadata": {},
   "outputs": [
    {
     "data": {
      "text/plain": [
       "array([[<matplotlib.axes._subplots.AxesSubplot object at 0x11f89c908>,\n",
       "        <matplotlib.axes._subplots.AxesSubplot object at 0x11f8f8160>,\n",
       "        <matplotlib.axes._subplots.AxesSubplot object at 0x11f9206a0>,\n",
       "        <matplotlib.axes._subplots.AxesSubplot object at 0x11f948c18>,\n",
       "        <matplotlib.axes._subplots.AxesSubplot object at 0x11f97a1d0>,\n",
       "        <matplotlib.axes._subplots.AxesSubplot object at 0x11f9a2748>,\n",
       "        <matplotlib.axes._subplots.AxesSubplot object at 0x11f9cbcc0>,\n",
       "        <matplotlib.axes._subplots.AxesSubplot object at 0x11f9fb2b0>],\n",
       "       [<matplotlib.axes._subplots.AxesSubplot object at 0x11f9fb2e8>,\n",
       "        <matplotlib.axes._subplots.AxesSubplot object at 0x11fa4bd68>,\n",
       "        <matplotlib.axes._subplots.AxesSubplot object at 0x11fa7b320>,\n",
       "        <matplotlib.axes._subplots.AxesSubplot object at 0x11faa4898>,\n",
       "        <matplotlib.axes._subplots.AxesSubplot object at 0x11facbe10>,\n",
       "        <matplotlib.axes._subplots.AxesSubplot object at 0x11fafc3c8>,\n",
       "        <matplotlib.axes._subplots.AxesSubplot object at 0x11fb26940>,\n",
       "        <matplotlib.axes._subplots.AxesSubplot object at 0x11fb4eeb8>],\n",
       "       [<matplotlib.axes._subplots.AxesSubplot object at 0x11fb7e470>,\n",
       "        <matplotlib.axes._subplots.AxesSubplot object at 0x11fba69e8>,\n",
       "        <matplotlib.axes._subplots.AxesSubplot object at 0x11fbcff60>,\n",
       "        <matplotlib.axes._subplots.AxesSubplot object at 0x11fc00518>,\n",
       "        <matplotlib.axes._subplots.AxesSubplot object at 0x11fc27a90>,\n",
       "        <matplotlib.axes._subplots.AxesSubplot object at 0x11fc59048>,\n",
       "        <matplotlib.axes._subplots.AxesSubplot object at 0x11fc805c0>,\n",
       "        <matplotlib.axes._subplots.AxesSubplot object at 0x11fca6b38>],\n",
       "       [<matplotlib.axes._subplots.AxesSubplot object at 0x11fcda0f0>,\n",
       "        <matplotlib.axes._subplots.AxesSubplot object at 0x11fd01668>,\n",
       "        <matplotlib.axes._subplots.AxesSubplot object at 0x11fd29be0>,\n",
       "        <matplotlib.axes._subplots.AxesSubplot object at 0x11fd5c198>,\n",
       "        <matplotlib.axes._subplots.AxesSubplot object at 0x11fd83710>,\n",
       "        <matplotlib.axes._subplots.AxesSubplot object at 0x11fda9c88>,\n",
       "        <matplotlib.axes._subplots.AxesSubplot object at 0x11fddc240>,\n",
       "        <matplotlib.axes._subplots.AxesSubplot object at 0x11fe017b8>],\n",
       "       [<matplotlib.axes._subplots.AxesSubplot object at 0x11fe2cd30>,\n",
       "        <matplotlib.axes._subplots.AxesSubplot object at 0x11fe5e2e8>,\n",
       "        <matplotlib.axes._subplots.AxesSubplot object at 0x11fe84860>,\n",
       "        <matplotlib.axes._subplots.AxesSubplot object at 0x11feaddd8>,\n",
       "        <matplotlib.axes._subplots.AxesSubplot object at 0x11fedd390>,\n",
       "        <matplotlib.axes._subplots.AxesSubplot object at 0x11ff03908>,\n",
       "        <matplotlib.axes._subplots.AxesSubplot object at 0x11ff2de80>,\n",
       "        <matplotlib.axes._subplots.AxesSubplot object at 0x11ff5b438>],\n",
       "       [<matplotlib.axes._subplots.AxesSubplot object at 0x11ff869b0>,\n",
       "        <matplotlib.axes._subplots.AxesSubplot object at 0x11ffaff28>,\n",
       "        <matplotlib.axes._subplots.AxesSubplot object at 0x11ffde4e0>,\n",
       "        <matplotlib.axes._subplots.AxesSubplot object at 0x120007a58>,\n",
       "        <matplotlib.axes._subplots.AxesSubplot object at 0x120030fd0>,\n",
       "        <matplotlib.axes._subplots.AxesSubplot object at 0x12005f588>,\n",
       "        <matplotlib.axes._subplots.AxesSubplot object at 0x120088b00>,\n",
       "        <matplotlib.axes._subplots.AxesSubplot object at 0x1200bb0b8>],\n",
       "       [<matplotlib.axes._subplots.AxesSubplot object at 0x1200e1630>,\n",
       "        <matplotlib.axes._subplots.AxesSubplot object at 0x120109ba8>,\n",
       "        <matplotlib.axes._subplots.AxesSubplot object at 0x12013b160>,\n",
       "        <matplotlib.axes._subplots.AxesSubplot object at 0x1201616d8>,\n",
       "        <matplotlib.axes._subplots.AxesSubplot object at 0x12018ac50>,\n",
       "        <matplotlib.axes._subplots.AxesSubplot object at 0x1201ba208>,\n",
       "        <matplotlib.axes._subplots.AxesSubplot object at 0x1201e2780>,\n",
       "        <matplotlib.axes._subplots.AxesSubplot object at 0x12020bcf8>],\n",
       "       [<matplotlib.axes._subplots.AxesSubplot object at 0x12023b2b0>,\n",
       "        <matplotlib.axes._subplots.AxesSubplot object at 0x120263828>,\n",
       "        <matplotlib.axes._subplots.AxesSubplot object at 0x12028bda0>,\n",
       "        <matplotlib.axes._subplots.AxesSubplot object at 0x1202bd358>,\n",
       "        <matplotlib.axes._subplots.AxesSubplot object at 0x1202e48d0>,\n",
       "        <matplotlib.axes._subplots.AxesSubplot object at 0x12030de48>,\n",
       "        <matplotlib.axes._subplots.AxesSubplot object at 0x12033e400>,\n",
       "        <matplotlib.axes._subplots.AxesSubplot object at 0x1203637b8>]],\n",
       "      dtype=object)"
      ]
     },
     "execution_count": 4,
     "metadata": {},
     "output_type": "execute_result"
    },
    {
     "data": {
      "image/png": "[encoded data removed]",
      "text/plain": [
       "<Figure size 432x432 with 64 Axes>"
      ]
     },
     "metadata": {
      "needs_background": "light"
     },
     "output_type": "display_data"
    }
   ],
   "source": [
    "from pandas.plotting import scatter_matrix\n",
    "scatter_matrix(df1, alpha=0.3, figsize=(6, 6), diagonal='kde')"
   ]
  },
  {
   "cell_type": "markdown",
   "metadata": {},
   "source": [
    "#### c."
   ]
  },
  {
   "cell_type": "code",
   "execution_count": 5,
   "metadata": {},
   "outputs": [
    {
     "data": {
      "text/html": [
       "<div>\n",
       "<style scoped>\n",
       "    .dataframe tbody tr th:only-of-type {\n",
       "        vertical-align: middle;\n",
       "    }\n",
       "\n",
       "    .dataframe tbody tr th {\n",
       "        vertical-align: top;\n",
       "    }\n",
       "\n",
       "    .dataframe thead th {\n",
       "        text-align: right;\n",
       "    }\n",
       "</style>\n",
       "<table border=\"1\" class=\"dataframe\">\n",
       "  <thead>\n",
       "    <tr style=\"text-align: right;\">\n",
       "      <th></th>\n",
       "      <th>mpg</th>\n",
       "      <th>cylinders</th>\n",
       "      <th>displacement</th>\n",
       "      <th>horsepower</th>\n",
       "      <th>weight</th>\n",
       "      <th>acceleration</th>\n",
       "      <th>year</th>\n",
       "      <th>origin</th>\n",
       "    </tr>\n",
       "  </thead>\n",
       "  <tbody>\n",
       "    <tr>\n",
       "      <th>mpg</th>\n",
       "      <td>1.000000</td>\n",
       "      <td>-0.776260</td>\n",
       "      <td>-0.804443</td>\n",
       "      <td>-0.778427</td>\n",
       "      <td>-0.831739</td>\n",
       "      <td>0.422297</td>\n",
       "      <td>0.581469</td>\n",
       "      <td>0.563698</td>\n",
       "    </tr>\n",
       "    <tr>\n",
       "      <th>cylinders</th>\n",
       "      <td>-0.776260</td>\n",
       "      <td>1.000000</td>\n",
       "      <td>0.950920</td>\n",
       "      <td>0.842983</td>\n",
       "      <td>0.897017</td>\n",
       "      <td>-0.504061</td>\n",
       "      <td>-0.346717</td>\n",
       "      <td>-0.564972</td>\n",
       "    </tr>\n",
       "    <tr>\n",
       "      <th>displacement</th>\n",
       "      <td>-0.804443</td>\n",
       "      <td>0.950920</td>\n",
       "      <td>1.000000</td>\n",
       "      <td>0.897257</td>\n",
       "      <td>0.933104</td>\n",
       "      <td>-0.544162</td>\n",
       "      <td>-0.369804</td>\n",
       "      <td>-0.610664</td>\n",
       "    </tr>\n",
       "    <tr>\n",
       "      <th>horsepower</th>\n",
       "      <td>-0.778427</td>\n",
       "      <td>0.842983</td>\n",
       "      <td>0.897257</td>\n",
       "      <td>1.000000</td>\n",
       "      <td>0.864538</td>\n",
       "      <td>-0.689196</td>\n",
       "      <td>-0.416361</td>\n",
       "      <td>-0.455171</td>\n",
       "    </tr>\n",
       "    <tr>\n",
       "      <th>weight</th>\n",
       "      <td>-0.831739</td>\n",
       "      <td>0.897017</td>\n",
       "      <td>0.933104</td>\n",
       "      <td>0.864538</td>\n",
       "      <td>1.000000</td>\n",
       "      <td>-0.419502</td>\n",
       "      <td>-0.307900</td>\n",
       "      <td>-0.581265</td>\n",
       "    </tr>\n",
       "    <tr>\n",
       "      <th>acceleration</th>\n",
       "      <td>0.422297</td>\n",
       "      <td>-0.504061</td>\n",
       "      <td>-0.544162</td>\n",
       "      <td>-0.689196</td>\n",
       "      <td>-0.419502</td>\n",
       "      <td>1.000000</td>\n",
       "      <td>0.282901</td>\n",
       "      <td>0.210084</td>\n",
       "    </tr>\n",
       "    <tr>\n",
       "      <th>year</th>\n",
       "      <td>0.581469</td>\n",
       "      <td>-0.346717</td>\n",
       "      <td>-0.369804</td>\n",
       "      <td>-0.416361</td>\n",
       "      <td>-0.307900</td>\n",
       "      <td>0.282901</td>\n",
       "      <td>1.000000</td>\n",
       "      <td>0.184314</td>\n",
       "    </tr>\n",
       "    <tr>\n",
       "      <th>origin</th>\n",
       "      <td>0.563698</td>\n",
       "      <td>-0.564972</td>\n",
       "      <td>-0.610664</td>\n",
       "      <td>-0.455171</td>\n",
       "      <td>-0.581265</td>\n",
       "      <td>0.210084</td>\n",
       "      <td>0.184314</td>\n",
       "      <td>1.000000</td>\n",
       "    </tr>\n",
       "  </tbody>\n",
       "</table>\n",
       "</div>"
      ],
      "text/plain": [
       "                   mpg  cylinders  displacement  horsepower    weight  \\\n",
       "mpg           1.000000  -0.776260     -0.804443   -0.778427 -0.831739   \n",
       "cylinders    -0.776260   1.000000      0.950920    0.842983  0.897017   \n",
       "displacement -0.804443   0.950920      1.000000    0.897257  0.933104   \n",
       "horsepower   -0.778427   0.842983      0.897257    1.000000  0.864538   \n",
       "weight       -0.831739   0.897017      0.933104    0.864538  1.000000   \n",
       "acceleration  0.422297  -0.504061     -0.544162   -0.689196 -0.419502   \n",
       "year          0.581469  -0.346717     -0.369804   -0.416361 -0.307900   \n",
       "origin        0.563698  -0.564972     -0.610664   -0.455171 -0.581265   \n",
       "\n",
       "              acceleration      year    origin  \n",
       "mpg               0.422297  0.581469  0.563698  \n",
       "cylinders        -0.504061 -0.346717 -0.564972  \n",
       "displacement     -0.544162 -0.369804 -0.610664  \n",
       "horsepower       -0.689196 -0.416361 -0.455171  \n",
       "weight           -0.419502 -0.307900 -0.581265  \n",
       "acceleration      1.000000  0.282901  0.210084  \n",
       "year              0.282901  1.000000  0.184314  \n",
       "origin            0.210084  0.184314  1.000000  "
      ]
     },
     "execution_count": 5,
     "metadata": {},
     "output_type": "execute_result"
    }
   ],
   "source": [
    "pd.DataFrame.corr(df1)"
   ]
  },
  {
   "cell_type": "markdown",
   "metadata": {},
   "source": [
    "#### d."
   ]
  },
  {
   "cell_type": "code",
   "execution_count": 6,
   "metadata": {},
   "outputs": [
    {
     "data": {
      "text/plain": [
       "statsmodels.regression.linear_model.OLS"
      ]
     },
     "execution_count": 6,
     "metadata": {},
     "output_type": "execute_result"
    }
   ],
   "source": [
    "import statsmodels.api as sm\n",
    "df1['const'] = 1\n",
    "reg1 = sm.OLS(endog=df1['mpg'], exog=df1[['const', 'cylinders','displacement','horsepower','weight','acceleration','year','origin']], missing='drop')\n",
    "type(reg1)"
   ]
  },
  {
   "cell_type": "code",
   "execution_count": 7,
   "metadata": {},
   "outputs": [
    {
     "name": "stdout",
     "output_type": "stream",
     "text": [
      "                            OLS Regression Results                            \n",
      "==============================================================================\n",
      "Dep. Variable:                    mpg   R-squared:                       0.821\n",
      "Model:                            OLS   Adj. R-squared:                  0.818\n",
      "Method:                 Least Squares   F-statistic:                     252.4\n",
      "Date:                Tue, 19 Feb 2019   Prob (F-statistic):          2.04e-139\n",
      "Time:                        14:35:29   Log-Likelihood:                -1023.5\n",
      "No. Observations:                 392   AIC:                             2063.\n",
      "Df Residuals:                     384   BIC:                             2095.\n",
      "Df Model:                           7                                         \n",
      "Covariance Type:            nonrobust                                         \n",
      "================================================================================\n",
      "                   coef    std err          t      P>|t|      [0.025      0.975]\n",
      "--------------------------------------------------------------------------------\n",
      "const          -17.2184      4.644     -3.707      0.000     -26.350      -8.087\n",
      "cylinders       -0.4934      0.323     -1.526      0.128      -1.129       0.142\n",
      "displacement     0.0199      0.008      2.647      0.008       0.005       0.035\n",
      "horsepower      -0.0170      0.014     -1.230      0.220      -0.044       0.010\n",
      "weight          -0.0065      0.001     -9.929      0.000      -0.008      -0.005\n",
      "acceleration     0.0806      0.099      0.815      0.415      -0.114       0.275\n",
      "year             0.7508      0.051     14.729      0.000       0.651       0.851\n",
      "origin           1.4261      0.278      5.127      0.000       0.879       1.973\n",
      "==============================================================================\n",
      "Omnibus:                       31.906   Durbin-Watson:                   1.309\n",
      "Prob(Omnibus):                  0.000   Jarque-Bera (JB):               53.100\n",
      "Skew:                           0.529   Prob(JB):                     2.95e-12\n",
      "Kurtosis:                       4.460   Cond. No.                     8.59e+04\n",
      "==============================================================================\n",
      "\n",
      "Warnings:\n",
      "[1] Standard Errors assume that the covariance matrix of the errors is correctly specified.\n",
      "[2] The condition number is large, 8.59e+04. This might indicate that there are\n",
      "strong multicollinearity or other numerical problems.\n"
     ]
    }
   ],
   "source": [
    "results = reg1.fit()\n",
    "print(results.summary())"
   ]
  },
  {
   "cell_type": "markdown",
   "metadata": {},
   "source": [
    "i. The coefficients of (constant), displacement, weight, year, and origin are statistically significant at the 1% level."
   ]
  },
  {
   "cell_type": "markdown",
   "metadata": {},
   "source": [
    "ii. The coefficients of cylinders, horsepower, and acceleration are not statistically significant at the 10% level."
   ]
  },
  {
   "cell_type": "markdown",
   "metadata": {},
   "source": [
    "iii. The coefficient of $Year$ is about 0.7508, which is significantly larger than 0. It means holding other factors constant, if a car is made one year later, in average, the car can travel about 0.75 miles more per gallon. This is because the larger value of year of a car indicates that the car is newer, and newer cars tend to travel more miles per gallon (might because the devices of the car have not depreciated a lot, or the cars are made using new techniques or materials). "
   ]
  },
  {
   "cell_type": "markdown",
   "metadata": {},
   "source": [
    "#### e."
   ]
  },
  {
   "cell_type": "markdown",
   "metadata": {},
   "source": [
    "From part (b), the variables $displacement$, $horsepower$, and $weight$, look most likely to have a nonlinear relationship with $mpg$. "
   ]
  },
  {
   "cell_type": "markdown",
   "metadata": {},
   "source": [
    "i."
   ]
  },
  {
   "cell_type": "code",
   "execution_count": 8,
   "metadata": {},
   "outputs": [
    {
     "name": "stdout",
     "output_type": "stream",
     "text": [
      "                            OLS Regression Results                            \n",
      "==============================================================================\n",
      "Dep. Variable:                    mpg   R-squared:                       0.870\n",
      "Model:                            OLS   Adj. R-squared:                  0.866\n",
      "Method:                 Least Squares   F-statistic:                     230.2\n",
      "Date:                Tue, 19 Feb 2019   Prob (F-statistic):          1.75e-160\n",
      "Time:                        14:35:56   Log-Likelihood:                -962.02\n",
      "No. Observations:                 392   AIC:                             1948.\n",
      "Df Residuals:                     380   BIC:                             1996.\n",
      "Df Model:                          11                                         \n",
      "Covariance Type:            nonrobust                                         \n",
      "==================================================================================\n",
      "                     coef    std err          t      P>|t|      [0.025      0.975]\n",
      "----------------------------------------------------------------------------------\n",
      "const             20.1084      6.696      3.003      0.003       6.943      33.274\n",
      "cylinders          0.2519      0.326      0.773      0.440      -0.389       0.893\n",
      "displacement      -0.0169      0.020     -0.828      0.408      -0.057       0.023\n",
      "displacement_2  2.257e-05   3.61e-05      0.626      0.532   -4.83e-05    9.35e-05\n",
      "horsepower        -0.1635      0.041     -3.971      0.000      -0.244      -0.083\n",
      "horsepower_2       0.0004      0.000      2.943      0.003       0.000       0.001\n",
      "weight            -0.0136      0.003     -5.069      0.000      -0.019      -0.008\n",
      "weight_2        1.514e-06   3.69e-07      4.105      0.000    7.89e-07    2.24e-06\n",
      "acceleration      -2.0884      0.557     -3.752      0.000      -3.183      -0.994\n",
      "acceleration_2     0.0576      0.016      3.496      0.001       0.025       0.090\n",
      "year               0.7810      0.045     17.512      0.000       0.693       0.869\n",
      "origin             0.6104      0.263      2.320      0.021       0.093       1.128\n",
      "==============================================================================\n",
      "Omnibus:                       33.614   Durbin-Watson:                   1.576\n",
      "Prob(Omnibus):                  0.000   Jarque-Bera (JB):               77.985\n",
      "Skew:                           0.438   Prob(JB):                     1.16e-17\n",
      "Kurtosis:                       5.002   Cond. No.                     5.13e+08\n",
      "==============================================================================\n",
      "\n",
      "Warnings:\n",
      "[1] Standard Errors assume that the covariance matrix of the errors is correctly specified.\n",
      "[2] The condition number is large, 5.13e+08. This might indicate that there are\n",
      "strong multicollinearity or other numerical problems.\n"
     ]
    }
   ],
   "source": [
    "df1['const'] = 1\n",
    "df1['displacement_2']=df1['displacement']**2\n",
    "df1['weight_2']=df1['weight']**2\n",
    "df1['horsepower_2']=df1['horsepower']**2\n",
    "df1['acceleration_2']=df1['acceleration']**2\n",
    "reg2 = sm.OLS(endog=df1['mpg'], exog=df1[['const', 'cylinders','displacement','displacement_2', 'horsepower','horsepower_2',\n",
    "                                          'weight', 'weight_2','acceleration','acceleration_2','year','origin']], missing='drop')\n",
    "results2=reg2.fit()\n",
    "print(results2.summary())"
   ]
  },
  {
   "cell_type": "markdown",
   "metadata": {},
   "source": [
    "ii. The adjusted R-squared is 0.866. It is better than the adjusted R-squared from part (d), which is 0.818"
   ]
  },
  {
   "cell_type": "markdown",
   "metadata": {},
   "source": [
    "iii. The coefficient of $displacement_{i}$ becomes insignificant (p-value is 0.408). The coefficient of its squared term is also not significant (p-value is 0.532), alought in part (d), the coefficient of $displacement_{i}$ is significant at the 1% level as its p-value is 0.008"
   ]
  },
  {
   "cell_type": "markdown",
   "metadata": {},
   "source": [
    "iv. The coefficient of $cylinders_{i}$ is insignificant in this part as the p-value is 0.440. In part (d), the coefficient of $cylinders_{i}$ is also insignificant. We can note that the p-value of this coefficient increases from part (d) to part (e)"
   ]
  },
  {
   "cell_type": "markdown",
   "metadata": {},
   "source": [
    "#### f."
   ]
  },
  {
   "cell_type": "code",
   "execution_count": 9,
   "metadata": {},
   "outputs": [
    {
     "name": "stdout",
     "output_type": "stream",
     "text": [
      "The predicted miles per gallon mpg of the car is: 38.73211109716943\n"
     ]
    }
   ],
   "source": [
    "pre=results2.predict(exog=[1, 6, 200, 40000, 100, 10000, 3100,3100**2, 15.1, 15.1**2, 99,1 ])[0]\n",
    "print('The predicted miles per gallon mpg of the car is:',pre)"
   ]
  },
  {
   "cell_type": "markdown",
   "metadata": {},
   "source": [
    "### 2."
   ]
  },
  {
   "cell_type": "markdown",
   "metadata": {},
   "source": [
    "#### a."
   ]
  },
  {
   "cell_type": "code",
   "execution_count": 11,
   "metadata": {},
   "outputs": [
    {
     "name": "stdout",
     "output_type": "stream",
     "text": [
      "The Euclidean distance between the observation 1 and the test point is: 3.0\n",
      "The Euclidean distance between the observation 2 and the test point is: 2.0\n",
      "The Euclidean distance between the observation 3 and the test point is: 3.1622776601683795\n",
      "The Euclidean distance between the observation 4 and the test point is: 2.23606797749979\n",
      "The Euclidean distance between the observation 5 and the test point is: 1.4142135623730951\n",
      "The Euclidean distance between the observation 6 and the test point is: 1.7320508075688772\n"
     ]
    }
   ],
   "source": [
    "import math\n",
    "d1=math.sqrt((0-0)**2+(3-0)**2+(0-0)**2)\n",
    "print('The Euclidean distance between the observation 1 and the test point is:',d1)\n",
    "d2=math.sqrt((2-0)**2+(0-0)**2+(0-0)**2)\n",
    "print('The Euclidean distance between the observation 2 and the test point is:',d2)\n",
    "d3=math.sqrt((0-0)**2+(1-0)**2+(3-0)**2)\n",
    "print('The Euclidean distance between the observation 3 and the test point is:',d3)\n",
    "d4=math.sqrt((0-0)**2+(1-0)**2+(2-0)**2)\n",
    "print('The Euclidean distance between the observation 4 and the test point is:',d4)\n",
    "d5=math.sqrt((-1-0)**2+(0-0)**2+(1-0)**2)\n",
    "print('The Euclidean distance between the observation 5 and the test point is:',d5)\n",
    "d6=math.sqrt((1-0)**2+(1-0)**2+(1-0)**2)\n",
    "print('The Euclidean distance between the observation 6 and the test point is:',d6)"
   ]
  },
  {
   "cell_type": "markdown",
   "metadata": {},
   "source": [
    "#### b."
   ]
  },
  {
   "cell_type": "markdown",
   "metadata": {},
   "source": [
    "The KNN prediction with K=1 is Green since the observation 5 is the closest observation to the test point as the Euclidean distance between the observation 5 and the test point is $\\sqrt {2}$, which is the smallest among the six Euclidean distances (showed in part (a)), and the Y of observation 5 is Green, so we predict the test point $X_{1}=X_{2}=X_{3}=0$ is also Green based on K=1."
   ]
  },
  {
   "cell_type": "markdown",
   "metadata": {},
   "source": [
    "#### C."
   ]
  },
  {
   "cell_type": "markdown",
   "metadata": {},
   "source": [
    "From part (a), the three closest observations to the test point are observation 5, 6, and 2. The Y of observation 5, 6, 2 are Green, Red, Red respectively. Therefore, there are two Red and one Green in the three closest observations of the test point. Thus, we should predict the test point $X_{1}=X_{2}=X_{3}=0$ is Red based on K=3."
   ]
  },
  {
   "cell_type": "markdown",
   "metadata": {},
   "source": [
    "#### d."
   ]
  },
  {
   "cell_type": "markdown",
   "metadata": {},
   "source": [
    "I expect the best value for K would be small if the optimal decision boundary is highly nonlinear. \n",
    "\n",
    "This is because small K means the estimation is more flexible, which indicates we can detect more complex patterns from observations. Since the optimal decision boundary is highly nonlinear, in order to detect this complex pattern, we need to set K small to avoid underfitting (If the K is large, the estimation would be less flexible and the outcome tends to be more linear)."
   ]
  },
  {
   "cell_type": "markdown",
   "metadata": {},
   "source": [
    "#### e."
   ]
  },
  {
   "cell_type": "code",
   "execution_count": 35,
   "metadata": {},
   "outputs": [
    {
     "name": "stdout",
     "output_type": "stream",
     "text": [
      "KNN score: 0.0\n",
      "The prediction of the test point is: green\n"
     ]
    }
   ],
   "source": [
    "import numpy as np\n",
    "from sklearn import datasets, neighbors, linear_model\n",
    "X_digits = np.array([[0,3,0],[2,0,0],[0,1,3],[0,1,2],[-1,0,1],[1,1,1]])\n",
    "y_digits = np.array(['red','red','red','green','green','red'])\n",
    "n_samples = len(X_digits)\n",
    "X_train = X_digits\n",
    "y_train = y_digits\n",
    "X_test = [[1,1,1]]\n",
    "y_test = ['red']\n",
    "knn = neighbors.KNeighborsClassifier(2)\n",
    "print('KNN score:' , knn.fit(X_train, y_train).score(X_test, y_test))\n",
    "print('The prediction of the test point is:', knn.predict(X_test)[0])"
   ]
  },
  {
   "cell_type": "markdown",
   "metadata": {},
   "source": [
    "Therefore, the prediction using python's scikt-learn library is Green.\n",
    "\n",
    "(Actually, we can note that the number of red and green are the same in the two closest observations to the test point.)"
   ]
  },
  {
   "cell_type": "markdown",
   "metadata": {},
   "source": [
    "#### 3."
   ]
  },
  {
   "cell_type": "code",
   "execution_count": 41,
   "metadata": {},
   "outputs": [
    {
     "data": {
      "text/html": [
       "<div>\n",
       "<style scoped>\n",
       "    .dataframe tbody tr th:only-of-type {\n",
       "        vertical-align: middle;\n",
       "    }\n",
       "\n",
       "    .dataframe tbody tr th {\n",
       "        vertical-align: top;\n",
       "    }\n",
       "\n",
       "    .dataframe thead th {\n",
       "        text-align: right;\n",
       "    }\n",
       "</style>\n",
       "<table border=\"1\" class=\"dataframe\">\n",
       "  <thead>\n",
       "    <tr style=\"text-align: right;\">\n",
       "      <th></th>\n",
       "      <th>mpg</th>\n",
       "      <th>cylinders</th>\n",
       "      <th>displacement</th>\n",
       "      <th>horsepower</th>\n",
       "      <th>weight</th>\n",
       "      <th>acceleration</th>\n",
       "      <th>year</th>\n",
       "      <th>origin</th>\n",
       "      <th>name</th>\n",
       "      <th>const</th>\n",
       "      <th>displacement_2</th>\n",
       "      <th>weight_2</th>\n",
       "      <th>horsepower_2</th>\n",
       "      <th>acceleration_2</th>\n",
       "      <th>mpg_high</th>\n",
       "    </tr>\n",
       "  </thead>\n",
       "  <tbody>\n",
       "    <tr>\n",
       "      <th>0</th>\n",
       "      <td>18.0</td>\n",
       "      <td>8</td>\n",
       "      <td>307.0</td>\n",
       "      <td>130.0</td>\n",
       "      <td>3504</td>\n",
       "      <td>12.0</td>\n",
       "      <td>70</td>\n",
       "      <td>1</td>\n",
       "      <td>chevrolet chevelle malibu</td>\n",
       "      <td>1</td>\n",
       "      <td>94249.0</td>\n",
       "      <td>12278016</td>\n",
       "      <td>16900.0</td>\n",
       "      <td>144.00</td>\n",
       "      <td>False</td>\n",
       "    </tr>\n",
       "    <tr>\n",
       "      <th>1</th>\n",
       "      <td>15.0</td>\n",
       "      <td>8</td>\n",
       "      <td>350.0</td>\n",
       "      <td>165.0</td>\n",
       "      <td>3693</td>\n",
       "      <td>11.5</td>\n",
       "      <td>70</td>\n",
       "      <td>1</td>\n",
       "      <td>buick skylark 320</td>\n",
       "      <td>1</td>\n",
       "      <td>122500.0</td>\n",
       "      <td>13638249</td>\n",
       "      <td>27225.0</td>\n",
       "      <td>132.25</td>\n",
       "      <td>False</td>\n",
       "    </tr>\n",
       "    <tr>\n",
       "      <th>2</th>\n",
       "      <td>18.0</td>\n",
       "      <td>8</td>\n",
       "      <td>318.0</td>\n",
       "      <td>150.0</td>\n",
       "      <td>3436</td>\n",
       "      <td>11.0</td>\n",
       "      <td>70</td>\n",
       "      <td>1</td>\n",
       "      <td>plymouth satellite</td>\n",
       "      <td>1</td>\n",
       "      <td>101124.0</td>\n",
       "      <td>11806096</td>\n",
       "      <td>22500.0</td>\n",
       "      <td>121.00</td>\n",
       "      <td>False</td>\n",
       "    </tr>\n",
       "    <tr>\n",
       "      <th>3</th>\n",
       "      <td>16.0</td>\n",
       "      <td>8</td>\n",
       "      <td>304.0</td>\n",
       "      <td>150.0</td>\n",
       "      <td>3433</td>\n",
       "      <td>12.0</td>\n",
       "      <td>70</td>\n",
       "      <td>1</td>\n",
       "      <td>amc rebel sst</td>\n",
       "      <td>1</td>\n",
       "      <td>92416.0</td>\n",
       "      <td>11785489</td>\n",
       "      <td>22500.0</td>\n",
       "      <td>144.00</td>\n",
       "      <td>False</td>\n",
       "    </tr>\n",
       "    <tr>\n",
       "      <th>4</th>\n",
       "      <td>17.0</td>\n",
       "      <td>8</td>\n",
       "      <td>302.0</td>\n",
       "      <td>140.0</td>\n",
       "      <td>3449</td>\n",
       "      <td>10.5</td>\n",
       "      <td>70</td>\n",
       "      <td>1</td>\n",
       "      <td>ford torino</td>\n",
       "      <td>1</td>\n",
       "      <td>91204.0</td>\n",
       "      <td>11895601</td>\n",
       "      <td>19600.0</td>\n",
       "      <td>110.25</td>\n",
       "      <td>False</td>\n",
       "    </tr>\n",
       "  </tbody>\n",
       "</table>\n",
       "</div>"
      ],
      "text/plain": [
       "    mpg  cylinders  displacement  horsepower  weight  acceleration  year  \\\n",
       "0  18.0          8         307.0       130.0    3504          12.0    70   \n",
       "1  15.0          8         350.0       165.0    3693          11.5    70   \n",
       "2  18.0          8         318.0       150.0    3436          11.0    70   \n",
       "3  16.0          8         304.0       150.0    3433          12.0    70   \n",
       "4  17.0          8         302.0       140.0    3449          10.5    70   \n",
       "\n",
       "   origin                       name  const  displacement_2  weight_2  \\\n",
       "0       1  chevrolet chevelle malibu      1         94249.0  12278016   \n",
       "1       1          buick skylark 320      1        122500.0  13638249   \n",
       "2       1         plymouth satellite      1        101124.0  11806096   \n",
       "3       1              amc rebel sst      1         92416.0  11785489   \n",
       "4       1                ford torino      1         91204.0  11895601   \n",
       "\n",
       "   horsepower_2  acceleration_2  mpg_high  \n",
       "0       16900.0          144.00     False  \n",
       "1       27225.0          132.25     False  \n",
       "2       22500.0          121.00     False  \n",
       "3       22500.0          144.00     False  \n",
       "4       19600.0          110.25     False  "
      ]
     },
     "execution_count": 41,
     "metadata": {},
     "output_type": "execute_result"
    }
   ],
   "source": [
    "med=df1['mpg'].median()\n",
    "df1['mpg_high']=(df1['mpg']>=med)\n",
    "df1.head()"
   ]
  },
  {
   "cell_type": "markdown",
   "metadata": {},
   "source": [
    "#### a."
   ]
  },
  {
   "cell_type": "code",
   "execution_count": 42,
   "metadata": {},
   "outputs": [
    {
     "name": "stdout",
     "output_type": "stream",
     "text": [
      "Optimization terminated successfully.\n",
      "         Current function value: 0.200944\n",
      "         Iterations 9\n"
     ]
    },
    {
     "data": {
      "text/html": [
       "<table class=\"simpletable\">\n",
       "<caption>Logit Regression Results</caption>\n",
       "<tr>\n",
       "  <th>Dep. Variable:</th>         <td>y</td>        <th>  No. Observations:  </th>  <td>   392</td>  \n",
       "</tr>\n",
       "<tr>\n",
       "  <th>Model:</th>               <td>Logit</td>      <th>  Df Residuals:      </th>  <td>   384</td>  \n",
       "</tr>\n",
       "<tr>\n",
       "  <th>Method:</th>               <td>MLE</td>       <th>  Df Model:          </th>  <td>     7</td>  \n",
       "</tr>\n",
       "<tr>\n",
       "  <th>Date:</th>          <td>Tue, 19 Feb 2019</td> <th>  Pseudo R-squ.:     </th>  <td>0.7101</td>  \n",
       "</tr>\n",
       "<tr>\n",
       "  <th>Time:</th>              <td>22:59:57</td>     <th>  Log-Likelihood:    </th> <td> -78.770</td> \n",
       "</tr>\n",
       "<tr>\n",
       "  <th>converged:</th>           <td>True</td>       <th>  LL-Null:           </th> <td> -271.71</td> \n",
       "</tr>\n",
       "<tr>\n",
       "  <th> </th>                      <td> </td>        <th>  LLR p-value:       </th> <td>2.531e-79</td>\n",
       "</tr>\n",
       "</table>\n",
       "<table class=\"simpletable\">\n",
       "<tr>\n",
       "    <td></td>       <th>coef</th>     <th>std err</th>      <th>z</th>      <th>P>|z|</th>  <th>[0.025</th>    <th>0.975]</th>  \n",
       "</tr>\n",
       "<tr>\n",
       "  <th>const</th> <td>  -17.1549</td> <td>    5.764</td> <td>   -2.976</td> <td> 0.003</td> <td>  -28.452</td> <td>   -5.858</td>\n",
       "</tr>\n",
       "<tr>\n",
       "  <th>x1</th>    <td>   -0.1626</td> <td>    0.423</td> <td>   -0.384</td> <td> 0.701</td> <td>   -0.992</td> <td>    0.667</td>\n",
       "</tr>\n",
       "<tr>\n",
       "  <th>x2</th>    <td>    0.0021</td> <td>    0.012</td> <td>    0.174</td> <td> 0.862</td> <td>   -0.021</td> <td>    0.026</td>\n",
       "</tr>\n",
       "<tr>\n",
       "  <th>x3</th>    <td>   -0.0410</td> <td>    0.024</td> <td>   -1.718</td> <td> 0.086</td> <td>   -0.088</td> <td>    0.006</td>\n",
       "</tr>\n",
       "<tr>\n",
       "  <th>x4</th>    <td>   -0.0043</td> <td>    0.001</td> <td>   -3.784</td> <td> 0.000</td> <td>   -0.007</td> <td>   -0.002</td>\n",
       "</tr>\n",
       "<tr>\n",
       "  <th>x5</th>    <td>    0.0161</td> <td>    0.141</td> <td>    0.114</td> <td> 0.910</td> <td>   -0.261</td> <td>    0.293</td>\n",
       "</tr>\n",
       "<tr>\n",
       "  <th>x6</th>    <td>    0.4295</td> <td>    0.075</td> <td>    5.709</td> <td> 0.000</td> <td>    0.282</td> <td>    0.577</td>\n",
       "</tr>\n",
       "<tr>\n",
       "  <th>x7</th>    <td>    0.4773</td> <td>    0.362</td> <td>    1.319</td> <td> 0.187</td> <td>   -0.232</td> <td>    1.187</td>\n",
       "</tr>\n",
       "</table><br/><br/>Possibly complete quasi-separation: A fraction 0.14 of observations can be<br/>perfectly predicted. This might indicate that there is complete<br/>quasi-separation. In this case some parameters will not be identified."
      ],
      "text/plain": [
       "<class 'statsmodels.iolib.summary.Summary'>\n",
       "\"\"\"\n",
       "                           Logit Regression Results                           \n",
       "==============================================================================\n",
       "Dep. Variable:                      y   No. Observations:                  392\n",
       "Model:                          Logit   Df Residuals:                      384\n",
       "Method:                           MLE   Df Model:                            7\n",
       "Date:                Tue, 19 Feb 2019   Pseudo R-squ.:                  0.7101\n",
       "Time:                        22:59:57   Log-Likelihood:                -78.770\n",
       "converged:                       True   LL-Null:                       -271.71\n",
       "                                        LLR p-value:                 2.531e-79\n",
       "==============================================================================\n",
       "                 coef    std err          z      P>|z|      [0.025      0.975]\n",
       "------------------------------------------------------------------------------\n",
       "const        -17.1549      5.764     -2.976      0.003     -28.452      -5.858\n",
       "x1            -0.1626      0.423     -0.384      0.701      -0.992       0.667\n",
       "x2             0.0021      0.012      0.174      0.862      -0.021       0.026\n",
       "x3            -0.0410      0.024     -1.718      0.086      -0.088       0.006\n",
       "x4            -0.0043      0.001     -3.784      0.000      -0.007      -0.002\n",
       "x5             0.0161      0.141      0.114      0.910      -0.261       0.293\n",
       "x6             0.4295      0.075      5.709      0.000       0.282       0.577\n",
       "x7             0.4773      0.362      1.319      0.187      -0.232       1.187\n",
       "==============================================================================\n",
       "\n",
       "Possibly complete quasi-separation: A fraction 0.14 of observations can be\n",
       "perfectly predicted. This might indicate that there is complete\n",
       "quasi-separation. In this case some parameters will not be identified.\n",
       "\"\"\""
      ]
     },
     "execution_count": 42,
     "metadata": {},
     "output_type": "execute_result"
    }
   ],
   "source": [
    "import statsmodels.api as sm\n",
    "df1=df1.dropna()\n",
    "X=df1[['const', 'cylinders','displacement','horsepower','weight','acceleration','year','origin']].values\n",
    "y=df1['mpg_high'].values\n",
    "LogitModel=sm.Logit(y,X)\n",
    "LogitReg_sm=LogitModel.fit()\n",
    "LogitReg_sm.summary()"
   ]
  },
  {
   "cell_type": "markdown",
   "metadata": {},
   "source": [
    "The coefficients that are statistically significant at the 5% level are (constant), $weight$, and $year$."
   ]
  },
  {
   "cell_type": "markdown",
   "metadata": {},
   "source": [
    "#### b."
   ]
  },
  {
   "cell_type": "code",
   "execution_count": 43,
   "metadata": {},
   "outputs": [],
   "source": [
    "from sklearn.model_selection import train_test_split\n",
    "X_train, X_test, y_train, y_test = \\\n",
    "    train_test_split(X, y, test_size = 0.5, random_state=10)"
   ]
  },
  {
   "cell_type": "markdown",
   "metadata": {},
   "source": [
    "#### c."
   ]
  },
  {
   "cell_type": "code",
   "execution_count": 44,
   "metadata": {},
   "outputs": [
    {
     "name": "stdout",
     "output_type": "stream",
     "text": [
      "Optimization terminated successfully.\n",
      "         Current function value: 0.130082\n",
      "         Iterations 10\n"
     ]
    },
    {
     "data": {
      "text/html": [
       "<table class=\"simpletable\">\n",
       "<caption>Logit Regression Results</caption>\n",
       "<tr>\n",
       "  <th>Dep. Variable:</th>         <td>y</td>        <th>  No. Observations:  </th>  <td>   196</td>  \n",
       "</tr>\n",
       "<tr>\n",
       "  <th>Model:</th>               <td>Logit</td>      <th>  Df Residuals:      </th>  <td>   188</td>  \n",
       "</tr>\n",
       "<tr>\n",
       "  <th>Method:</th>               <td>MLE</td>       <th>  Df Model:          </th>  <td>     7</td>  \n",
       "</tr>\n",
       "<tr>\n",
       "  <th>Date:</th>          <td>Tue, 19 Feb 2019</td> <th>  Pseudo R-squ.:     </th>  <td>0.8123</td>  \n",
       "</tr>\n",
       "<tr>\n",
       "  <th>Time:</th>              <td>23:00:20</td>     <th>  Log-Likelihood:    </th> <td> -25.496</td> \n",
       "</tr>\n",
       "<tr>\n",
       "  <th>converged:</th>           <td>True</td>       <th>  LL-Null:           </th> <td> -135.85</td> \n",
       "</tr>\n",
       "<tr>\n",
       "  <th> </th>                      <td> </td>        <th>  LLR p-value:       </th> <td>4.683e-44</td>\n",
       "</tr>\n",
       "</table>\n",
       "<table class=\"simpletable\">\n",
       "<tr>\n",
       "    <td></td>       <th>coef</th>     <th>std err</th>      <th>z</th>      <th>P>|z|</th>  <th>[0.025</th>    <th>0.975]</th>  \n",
       "</tr>\n",
       "<tr>\n",
       "  <th>const</th> <td>  -26.7996</td> <td>   11.062</td> <td>   -2.423</td> <td> 0.015</td> <td>  -48.482</td> <td>   -5.118</td>\n",
       "</tr>\n",
       "<tr>\n",
       "  <th>x1</th>    <td>   -1.8304</td> <td>    0.809</td> <td>   -2.263</td> <td> 0.024</td> <td>   -3.416</td> <td>   -0.245</td>\n",
       "</tr>\n",
       "<tr>\n",
       "  <th>x2</th>    <td>    0.0281</td> <td>    0.018</td> <td>    1.547</td> <td> 0.122</td> <td>   -0.008</td> <td>    0.064</td>\n",
       "</tr>\n",
       "<tr>\n",
       "  <th>x3</th>    <td>    0.0153</td> <td>    0.034</td> <td>    0.446</td> <td> 0.656</td> <td>   -0.052</td> <td>    0.083</td>\n",
       "</tr>\n",
       "<tr>\n",
       "  <th>x4</th>    <td>   -0.0075</td> <td>    0.002</td> <td>   -3.552</td> <td> 0.000</td> <td>   -0.012</td> <td>   -0.003</td>\n",
       "</tr>\n",
       "<tr>\n",
       "  <th>x5</th>    <td>    0.1094</td> <td>    0.266</td> <td>    0.412</td> <td> 0.680</td> <td>   -0.411</td> <td>    0.630</td>\n",
       "</tr>\n",
       "<tr>\n",
       "  <th>x6</th>    <td>    0.6432</td> <td>    0.165</td> <td>    3.888</td> <td> 0.000</td> <td>    0.319</td> <td>    0.967</td>\n",
       "</tr>\n",
       "<tr>\n",
       "  <th>x7</th>    <td>    0.2444</td> <td>    0.602</td> <td>    0.406</td> <td> 0.685</td> <td>   -0.935</td> <td>    1.424</td>\n",
       "</tr>\n",
       "</table><br/><br/>Possibly complete quasi-separation: A fraction 0.24 of observations can be<br/>perfectly predicted. This might indicate that there is complete<br/>quasi-separation. In this case some parameters will not be identified."
      ],
      "text/plain": [
       "<class 'statsmodels.iolib.summary.Summary'>\n",
       "\"\"\"\n",
       "                           Logit Regression Results                           \n",
       "==============================================================================\n",
       "Dep. Variable:                      y   No. Observations:                  196\n",
       "Model:                          Logit   Df Residuals:                      188\n",
       "Method:                           MLE   Df Model:                            7\n",
       "Date:                Tue, 19 Feb 2019   Pseudo R-squ.:                  0.8123\n",
       "Time:                        23:00:20   Log-Likelihood:                -25.496\n",
       "converged:                       True   LL-Null:                       -135.85\n",
       "                                        LLR p-value:                 4.683e-44\n",
       "==============================================================================\n",
       "                 coef    std err          z      P>|z|      [0.025      0.975]\n",
       "------------------------------------------------------------------------------\n",
       "const        -26.7996     11.062     -2.423      0.015     -48.482      -5.118\n",
       "x1            -1.8304      0.809     -2.263      0.024      -3.416      -0.245\n",
       "x2             0.0281      0.018      1.547      0.122      -0.008       0.064\n",
       "x3             0.0153      0.034      0.446      0.656      -0.052       0.083\n",
       "x4            -0.0075      0.002     -3.552      0.000      -0.012      -0.003\n",
       "x5             0.1094      0.266      0.412      0.680      -0.411       0.630\n",
       "x6             0.6432      0.165      3.888      0.000       0.319       0.967\n",
       "x7             0.2444      0.602      0.406      0.685      -0.935       1.424\n",
       "==============================================================================\n",
       "\n",
       "Possibly complete quasi-separation: A fraction 0.24 of observations can be\n",
       "perfectly predicted. This might indicate that there is complete\n",
       "quasi-separation. In this case some parameters will not be identified.\n",
       "\"\"\""
      ]
     },
     "execution_count": 44,
     "metadata": {},
     "output_type": "execute_result"
    }
   ],
   "source": [
    "LogitModel_tra=sm.Logit(y_train,X_train)\n",
    "LogitReg_sm_tra=LogitModel_tra.fit()\n",
    "LogitReg_sm_tra.summary()"
   ]
  },
  {
   "cell_type": "markdown",
   "metadata": {},
   "source": [
    "The estimated $\\beta_{0}$ is -26.7996.\n",
    "\n",
    "The estimated $(\\beta_{1},\\beta_{2},\\beta_{3},\\beta_{4},\\beta_{5},\\beta_{6},\\beta_{7})$ is (-1.8304, 0.0281, 0.0153, -0.0075, 0.1094, 0.6432, 0.2444) "
   ]
  },
  {
   "cell_type": "markdown",
   "metadata": {},
   "source": [
    "#### d."
   ]
  },
  {
   "cell_type": "code",
   "execution_count": 45,
   "metadata": {},
   "outputs": [
    {
     "name": "stdout",
     "output_type": "stream",
     "text": [
      "[[86 13]\n",
      " [ 9 88]]\n",
      "              precision    recall  f1-score   support\n",
      "\n",
      "       False       0.91      0.87      0.89        99\n",
      "        True       0.87      0.91      0.89        97\n",
      "\n",
      "   micro avg       0.89      0.89      0.89       196\n",
      "   macro avg       0.89      0.89      0.89       196\n",
      "weighted avg       0.89      0.89      0.89       196\n",
      "\n"
     ]
    }
   ],
   "source": [
    "y_pred=LogitReg_sm_tra.predict(X_test)\n",
    "y_pred[y_pred>=0.5]=1\n",
    "y_pred[y_pred<0.5]=0\n",
    "from sklearn.metrics import confusion_matrix, classification_report\n",
    "confusion_matrix=confusion_matrix(y_test, y_pred)\n",
    "print(confusion_matrix)\n",
    "print(classification_report(y_test, y_pred))"
   ]
  },
  {
   "cell_type": "markdown",
   "metadata": {},
   "source": [
    "Therefore, the model predicts low mpg and high mpg equally well since the f1-scores for False and True are the same."
   ]
  }
 ],
 "metadata": {
  "kernelspec": {
   "display_name": "Python 3",
   "language": "python",
   "name": "python3"
  },
  "language_info": {
   "codemirror_mode": {
    "name": "ipython",
    "version": 3
   },
   "file_extension": ".py",
   "mimetype": "text/x-python",
   "name": "python",
   "nbconvert_exporter": "python",
   "pygments_lexer": "ipython3",
   "version": "3.6.6"
  }
 },
 "nbformat": 4,
 "nbformat_minor": 2
}
